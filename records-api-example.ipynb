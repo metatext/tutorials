{
 "cells": [
  {
   "cell_type": "markdown",
   "id": "09fc1f9b",
   "metadata": {},
   "source": [
    "# Metatext"
   ]
  },
  {
   "cell_type": "markdown",
   "id": "d89b54c5",
   "metadata": {},
   "source": [
    "## Adding new records to a Metatext project\n",
    "\n",
    "### Important variables here\n",
    "\n",
    "`url`: The project endpoint for adding records, e.g., https://api.metatext.ai/v1/project/PROJECT_ID/record\n",
    "\n",
    "`apiKey`: Your Metatext's account ApiKey\n",
    "\n",
    "`dataset`: DataFrame with texts\n",
    "\n"
   ]
  },
  {
   "cell_type": "code",
   "execution_count": 38,
   "id": "5c8f555b",
   "metadata": {},
   "outputs": [],
   "source": [
    "import pandas as pd\n",
    "import requests"
   ]
  },
  {
   "cell_type": "code",
   "execution_count": 39,
   "id": "efd04ce2",
   "metadata": {},
   "outputs": [
    {
     "data": {
      "text/html": [
       "<div>\n",
       "<style scoped>\n",
       "    .dataframe tbody tr th:only-of-type {\n",
       "        vertical-align: middle;\n",
       "    }\n",
       "\n",
       "    .dataframe tbody tr th {\n",
       "        vertical-align: top;\n",
       "    }\n",
       "\n",
       "    .dataframe thead th {\n",
       "        text-align: right;\n",
       "    }\n",
       "</style>\n",
       "<table border=\"1\" class=\"dataframe\">\n",
       "  <thead>\n",
       "    <tr style=\"text-align: right;\">\n",
       "      <th></th>\n",
       "      <th>text</th>\n",
       "    </tr>\n",
       "  </thead>\n",
       "  <tbody>\n",
       "    <tr>\n",
       "      <th>0</th>\n",
       "      <td>The movie was amazing!</td>\n",
       "    </tr>\n",
       "    <tr>\n",
       "      <th>1</th>\n",
       "      <td>I didn't like the book at all.</td>\n",
       "    </tr>\n",
       "    <tr>\n",
       "      <th>2</th>\n",
       "      <td>This restaurant serves the best food in town.</td>\n",
       "    </tr>\n",
       "    <tr>\n",
       "      <th>3</th>\n",
       "      <td>The customer service was terrible.</td>\n",
       "    </tr>\n",
       "    <tr>\n",
       "      <th>4</th>\n",
       "      <td>I had a great experience at this hotel.</td>\n",
       "    </tr>\n",
       "  </tbody>\n",
       "</table>\n",
       "</div>"
      ],
      "text/plain": [
       "                                            text\n",
       "0                         The movie was amazing!\n",
       "1                 I didn't like the book at all.\n",
       "2  This restaurant serves the best food in town.\n",
       "3             The customer service was terrible.\n",
       "4        I had a great experience at this hotel."
      ]
     },
     "execution_count": 39,
     "metadata": {},
     "output_type": "execute_result"
    }
   ],
   "source": [
    "columns = [\"text\"]\n",
    "dataset = pd.read_json(\"./binary_classification.json\")[columns].head(10)\n",
    "\n",
    "dataset.head()"
   ]
  },
  {
   "cell_type": "code",
   "execution_count": 40,
   "id": "c65f11d0",
   "metadata": {},
   "outputs": [],
   "source": [
    "url = \"https://api.metatext.ai/v1/project/PROJECT_ID/record\""
   ]
  },
  {
   "cell_type": "markdown",
   "id": "0e5a28f1",
   "metadata": {},
   "source": [
    "## Adding new records"
   ]
  },
  {
   "cell_type": "markdown",
   "id": "a92041d7",
   "metadata": {},
   "source": [
    "`method`: `post`\n",
    "\n",
    "`url`: `https://api.metatext.ai/v1/project/project_id/record`\n",
    "            \n",
    "`payload`: \n",
    "\n",
    "    text: string\n",
    "    labels: array of strings\n",
    "    metadata: map\n",
    "    \n",
    "`response`: \n",
    "\n",
    "    record_id: the new record identifier (can be used for other requests or into the Metatext Platform)"
   ]
  },
  {
   "cell_type": "code",
   "execution_count": 41,
   "id": "c27921a8",
   "metadata": {},
   "outputs": [],
   "source": [
    "def create_record(text, my_id):\n",
    "    res = requests.post(url, json=dict(text=text, metadata=dict(MyID=str(my_id))))\n",
    "    return res.json()[\"record_id\"]"
   ]
  },
  {
   "cell_type": "code",
   "execution_count": 44,
   "id": "d676fb7e",
   "metadata": {},
   "outputs": [],
   "source": [
    "dataset[\"record_id\"] = dataset.apply(lambda x: create_record(x['text'], str(x.index)), axis=1)"
   ]
  },
  {
   "cell_type": "code",
   "execution_count": 45,
   "id": "20c28270",
   "metadata": {},
   "outputs": [
    {
     "data": {
      "text/html": [
       "<div>\n",
       "<style scoped>\n",
       "    .dataframe tbody tr th:only-of-type {\n",
       "        vertical-align: middle;\n",
       "    }\n",
       "\n",
       "    .dataframe tbody tr th {\n",
       "        vertical-align: top;\n",
       "    }\n",
       "\n",
       "    .dataframe thead th {\n",
       "        text-align: right;\n",
       "    }\n",
       "</style>\n",
       "<table border=\"1\" class=\"dataframe\">\n",
       "  <thead>\n",
       "    <tr style=\"text-align: right;\">\n",
       "      <th></th>\n",
       "      <th>text</th>\n",
       "      <th>record_id</th>\n",
       "    </tr>\n",
       "  </thead>\n",
       "  <tbody>\n",
       "    <tr>\n",
       "      <th>0</th>\n",
       "      <td>The movie was amazing!</td>\n",
       "      <td>033ffe5e41be2bc29989aed377d2caf7</td>\n",
       "    </tr>\n",
       "    <tr>\n",
       "      <th>1</th>\n",
       "      <td>I didn't like the book at all.</td>\n",
       "      <td>75fb215eb5fcf2faa64974613566dbf7</td>\n",
       "    </tr>\n",
       "    <tr>\n",
       "      <th>2</th>\n",
       "      <td>This restaurant serves the best food in town.</td>\n",
       "      <td>848dcb0a7d46766159928dfa4a2a949f</td>\n",
       "    </tr>\n",
       "    <tr>\n",
       "      <th>3</th>\n",
       "      <td>The customer service was terrible.</td>\n",
       "      <td>cc7777cfe9f8543a0b4398fa85f92e0e</td>\n",
       "    </tr>\n",
       "    <tr>\n",
       "      <th>4</th>\n",
       "      <td>I had a great experience at this hotel.</td>\n",
       "      <td>1028a4a524f90623dd9cdd2dac17463b</td>\n",
       "    </tr>\n",
       "    <tr>\n",
       "      <th>5</th>\n",
       "      <td>The product is of poor quality.</td>\n",
       "      <td>12dec7e49a0a763397b7677a81b71c5c</td>\n",
       "    </tr>\n",
       "    <tr>\n",
       "      <th>6</th>\n",
       "      <td>I highly recommend this product.</td>\n",
       "      <td>74c366f3eb2102c9646719c532860e9e</td>\n",
       "    </tr>\n",
       "    <tr>\n",
       "      <th>7</th>\n",
       "      <td>The traffic was terrible this morning.</td>\n",
       "      <td>8628f3bf4cf7486d11f8fb414ab291db</td>\n",
       "    </tr>\n",
       "    <tr>\n",
       "      <th>8</th>\n",
       "      <td>The hotel room was dirty and smelled bad.</td>\n",
       "      <td>0059fc7a7e1880258291b16ddb7cc018</td>\n",
       "    </tr>\n",
       "    <tr>\n",
       "      <th>9</th>\n",
       "      <td>The performance was outstanding.</td>\n",
       "      <td>e76fb6b69131fffc3763ef1545d0e723</td>\n",
       "    </tr>\n",
       "  </tbody>\n",
       "</table>\n",
       "</div>"
      ],
      "text/plain": [
       "                                            text  \\\n",
       "0                         The movie was amazing!   \n",
       "1                 I didn't like the book at all.   \n",
       "2  This restaurant serves the best food in town.   \n",
       "3             The customer service was terrible.   \n",
       "4        I had a great experience at this hotel.   \n",
       "5                The product is of poor quality.   \n",
       "6               I highly recommend this product.   \n",
       "7         The traffic was terrible this morning.   \n",
       "8      The hotel room was dirty and smelled bad.   \n",
       "9               The performance was outstanding.   \n",
       "\n",
       "                          record_id  \n",
       "0  033ffe5e41be2bc29989aed377d2caf7  \n",
       "1  75fb215eb5fcf2faa64974613566dbf7  \n",
       "2  848dcb0a7d46766159928dfa4a2a949f  \n",
       "3  cc7777cfe9f8543a0b4398fa85f92e0e  \n",
       "4  1028a4a524f90623dd9cdd2dac17463b  \n",
       "5  12dec7e49a0a763397b7677a81b71c5c  \n",
       "6  74c366f3eb2102c9646719c532860e9e  \n",
       "7  8628f3bf4cf7486d11f8fb414ab291db  \n",
       "8  0059fc7a7e1880258291b16ddb7cc018  \n",
       "9  e76fb6b69131fffc3763ef1545d0e723  "
      ]
     },
     "execution_count": 45,
     "metadata": {},
     "output_type": "execute_result"
    }
   ],
   "source": [
    "dataset"
   ]
  },
  {
   "cell_type": "markdown",
   "id": "d15f8e4c",
   "metadata": {},
   "source": [
    "## Getting records"
   ]
  },
  {
   "cell_type": "markdown",
   "id": "d96e5de2",
   "metadata": {},
   "source": [
    "`method`: `get`\n",
    "\n",
    "`url`: `https://api.metatext.ai/v1/project/project_id/record/record_id`"
   ]
  },
  {
   "cell_type": "code",
   "execution_count": 28,
   "id": "b4f08d8c",
   "metadata": {},
   "outputs": [],
   "source": [
    "def get_record(record_id):\n",
    "    res = requests.get(f\"{url}/{record_id}\")\n",
    "    return res.json()"
   ]
  },
  {
   "cell_type": "code",
   "execution_count": 51,
   "id": "95f26a72",
   "metadata": {},
   "outputs": [
    {
     "data": {
      "text/plain": [
       "{'project_id': 'gPnXKQaChknbMZ0ywo8C',\n",
       " 'record_id': '16ed3edf83ab240cff8d1ce440b8f7f2',\n",
       " 'dataset_id': '1afpvtl0UwohkiyoWoQT',\n",
       " 'text': 'The online customer support was efficient and helpful.',\n",
       " 'labels': [],\n",
       " 'prediction': ['Positive'],\n",
       " 'confidence': ['0.5818337539395589'],\n",
       " 'metadata': {'MyID': \"Index(['text'], dtype='object')\"},\n",
       " 'updated_at': '2023-05-15 00:24:59.930859',\n",
       " 'created_at': '2023-05-14 23:57:18.581403'}"
      ]
     },
     "execution_count": 51,
     "metadata": {},
     "output_type": "execute_result"
    }
   ],
   "source": [
    "get_record(\"16ed3edf83ab240cff8d1ce440b8f7f2\")"
   ]
  },
  {
   "cell_type": "markdown",
   "id": "fcbf4c61",
   "metadata": {},
   "source": [
    "## Updating records"
   ]
  },
  {
   "cell_type": "markdown",
   "id": "8bc446b7",
   "metadata": {},
   "source": [
    "`method`: `put`\n",
    "\n",
    "`url`: `https://api.metatext.ai/v1/project/project_id/record/record_id`\n",
    "            \n",
    "`payload`: \n",
    "\n",
    "    text: string\n",
    "    labels: array of strings\n",
    "    metadata: map\n",
    "    \n",
    "`response`: \n",
    "\n",
    "    record_id: the record identifier (can be used for other requests or into the Metatext Platform)"
   ]
  },
  {
   "cell_type": "code",
   "execution_count": 52,
   "id": "cb2ed274",
   "metadata": {},
   "outputs": [],
   "source": [
    "def update_record(record_id, labels):\n",
    "    res = requests.put(f\"{url}/{record_id}\", json=dict(labels=labels))\n",
    "    r = res.json()\n",
    "    return r[\"record_id\"]"
   ]
  },
  {
   "cell_type": "code",
   "execution_count": 53,
   "id": "95f54640",
   "metadata": {},
   "outputs": [
    {
     "data": {
      "text/plain": [
       "'16ed3edf83ab240cff8d1ce440b8f7f2'"
      ]
     },
     "execution_count": 53,
     "metadata": {},
     "output_type": "execute_result"
    }
   ],
   "source": [
    "update_record('16ed3edf83ab240cff8d1ce440b8f7f2', ['Positive'])"
   ]
  },
  {
   "cell_type": "code",
   "execution_count": 54,
   "id": "077dbd8b",
   "metadata": {},
   "outputs": [
    {
     "data": {
      "text/plain": [
       "{'project_id': 'gPnXKQaChknbMZ0ywo8C',\n",
       " 'record_id': '16ed3edf83ab240cff8d1ce440b8f7f2',\n",
       " 'dataset_id': '1afpvtl0UwohkiyoWoQT',\n",
       " 'text': 'The online customer support was efficient and helpful.',\n",
       " 'labels': ['Positive'],\n",
       " 'prediction': ['Positive'],\n",
       " 'confidence': ['0.8037658356136617'],\n",
       " 'metadata': None,\n",
       " 'updated_at': '2023-05-15 00:25:09.532370',\n",
       " 'created_at': '2023-05-14 23:57:18.581403'}"
      ]
     },
     "execution_count": 54,
     "metadata": {},
     "output_type": "execute_result"
    }
   ],
   "source": [
    "get_record(\"16ed3edf83ab240cff8d1ce440b8f7f2\")"
   ]
  },
  {
   "cell_type": "code",
   "execution_count": 55,
   "id": "cd87528b",
   "metadata": {},
   "outputs": [
    {
     "data": {
      "text/plain": [
       "'16ed3edf83ab240cff8d1ce440b8f7f2'"
      ]
     },
     "execution_count": 55,
     "metadata": {},
     "output_type": "execute_result"
    }
   ],
   "source": [
    "update_record(\"16ed3edf83ab240cff8d1ce440b8f7f2\", [\"Positive\", \"Cinema\"])"
   ]
  },
  {
   "cell_type": "code",
   "execution_count": 56,
   "id": "c060d76e",
   "metadata": {},
   "outputs": [
    {
     "data": {
      "text/plain": [
       "{'project_id': 'gPnXKQaChknbMZ0ywo8C',\n",
       " 'record_id': '16ed3edf83ab240cff8d1ce440b8f7f2',\n",
       " 'dataset_id': '1afpvtl0UwohkiyoWoQT',\n",
       " 'text': 'The online customer support was efficient and helpful.',\n",
       " 'labels': ['Positive', 'Cinema'],\n",
       " 'prediction': ['Positive'],\n",
       " 'confidence': ['0.8037658356136617'],\n",
       " 'metadata': None,\n",
       " 'updated_at': '2023-05-15 00:25:17.726633',\n",
       " 'created_at': '2023-05-14 23:57:18.581403'}"
      ]
     },
     "execution_count": 56,
     "metadata": {},
     "output_type": "execute_result"
    }
   ],
   "source": [
    "get_record(\"16ed3edf83ab240cff8d1ce440b8f7f2\")"
   ]
  },
  {
   "cell_type": "markdown",
   "id": "16b19165",
   "metadata": {},
   "source": [
    "## Deleting records"
   ]
  },
  {
   "cell_type": "markdown",
   "id": "9d37323d",
   "metadata": {},
   "source": [
    "`method`: `delete`\n",
    "\n",
    "`url`: `https://api.metatext.ai/v1/project/project_id/record/record_id`"
   ]
  },
  {
   "cell_type": "code",
   "execution_count": 57,
   "id": "b67f0062",
   "metadata": {},
   "outputs": [],
   "source": [
    "def delete_record(record_id):\n",
    "    res = requests.delete(f\"{url}/{record_id}\")\n",
    "    r = res.json()\n",
    "    return r[\"record_id\"]"
   ]
  },
  {
   "cell_type": "code",
   "execution_count": 58,
   "id": "8980bf27",
   "metadata": {},
   "outputs": [
    {
     "data": {
      "text/plain": [
       "'16ed3edf83ab240cff8d1ce440b8f7f2'"
      ]
     },
     "execution_count": 58,
     "metadata": {},
     "output_type": "execute_result"
    }
   ],
   "source": [
    "delete_record(\"16ed3edf83ab240cff8d1ce440b8f7f2\")"
   ]
  },
  {
   "cell_type": "code",
   "execution_count": 59,
   "id": "78d991ae",
   "metadata": {},
   "outputs": [
    {
     "data": {
      "text/plain": [
       "{'detail': 'Record 16ed3edf83ab240cff8d1ce440b8f7f2 not found'}"
      ]
     },
     "execution_count": 59,
     "metadata": {},
     "output_type": "execute_result"
    }
   ],
   "source": [
    "get_record(\"16ed3edf83ab240cff8d1ce440b8f7f2\")"
   ]
  },
  {
   "cell_type": "code",
   "execution_count": null,
   "id": "86dd4956",
   "metadata": {},
   "outputs": [],
   "source": []
  }
 ],
 "metadata": {
  "kernelspec": {
   "display_name": "Python 3 (ipykernel)",
   "language": "python",
   "name": "python3"
  },
  "language_info": {
   "codemirror_mode": {
    "name": "ipython",
    "version": 3
   },
   "file_extension": ".py",
   "mimetype": "text/x-python",
   "name": "python",
   "nbconvert_exporter": "python",
   "pygments_lexer": "ipython3",
   "version": "3.8.4"
  }
 },
 "nbformat": 4,
 "nbformat_minor": 5
}
